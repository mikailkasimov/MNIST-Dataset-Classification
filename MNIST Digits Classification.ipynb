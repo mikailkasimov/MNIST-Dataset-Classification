{
 "cells": [
  {
   "cell_type": "code",
   "execution_count": 1,
   "id": "2b84e522-86d2-4dc7-a9b5-5c54c28aa874",
   "metadata": {},
   "outputs": [],
   "source": [
    "import numpy as np\n",
    "import pandas as pd\n",
    "import seaborn as sns\n",
    "import cv2\n",
    "import matplotlib.pyplot as plt"
   ]
  },
  {
   "cell_type": "code",
   "execution_count": 2,
   "id": "bd650ea5-eb32-49af-961e-ec3f64bbafb3",
   "metadata": {},
   "outputs": [
    {
     "data": {
      "text/plain": [
       "\"\\nWe will be analyzing the MNIST Digits Dataset, and attempt to fit a simple logistic regression model to classify whether\\na given digit is '1' or '5'.\\n\\nWe create 2 features for an image:\\n- Symmetry\\n- Mean Intensity\\n\\nWe define symmetry as the as the average of the difference between an image and its flipped version along the horizontal axis,\\nand the difference between an image and its flipped version along the vertical axis.\\n\\nWe define the mean intensity as the mean intensity of the whole image.\\n\\n\\n\\nResults:\\n\\nWe achieve an in sample accuracy of 96.28% and an out of sample accuracy of 82.23%\\n\""
      ]
     },
     "execution_count": 2,
     "metadata": {},
     "output_type": "execute_result"
    }
   ],
   "source": [
    "\"\"\"\n",
    "We will be analyzing the MNIST Digits Dataset, and attempt to fit a simple logistic regression model to classify whether\n",
    "a given digit is '1' or '5'.\n",
    "\n",
    "We create 2 features for an image:\n",
    "- Symmetry\n",
    "- Mean Intensity\n",
    "\n",
    "We define symmetry as the as the average of the difference between an image and its flipped version along the horizontal axis,\n",
    "and the difference between an image and its flipped version along the vertical axis.\n",
    "\n",
    "We define the mean intensity as the mean intensity of the whole image.\n",
    "\n",
    "\n",
    "\n",
    "Results:\n",
    "\n",
    "We achieve an in sample accuracy of 96.28% and an out of sample accuracy of 82.23%\n",
    "\"\"\"\n",
    "#"
   ]
  },
  {
   "cell_type": "code",
   "execution_count": 3,
   "id": "f6fa4d48-de5f-460d-9559-9a5ac51ee93e",
   "metadata": {},
   "outputs": [],
   "source": [
    "#Import and process dataframe\n",
    "train = pd.read_csv(\"ZipDigits.train\")\n",
    "test = pd.read_csv(\"ZipDigits.test\")\n",
    "\n",
    "def process(row):\n",
    "    img = row.to_numpy()\n",
    "    img = np.array(img[0].split(), dtype=np.float32)\n",
    "    label = int(img[0])\n",
    "    img = img[1:257].reshape((16,16))\n",
    "    return pd.Series({'label': label, 'img': img})\n",
    "    \n",
    "train = train.apply(process,axis=1)\n",
    "test = test.apply(process,axis=1)\n",
    "\n",
    "train = train[(train['label'] == 5) | (train['label'] == 1)].reset_index()\n",
    "\n",
    "train = train.rename(columns={0: 'img'})"
   ]
  },
  {
   "cell_type": "code",
   "execution_count": 4,
   "id": "d9ea08c1-e3e7-414f-ac62-02a92700f2e7",
   "metadata": {},
   "outputs": [
    {
     "data": {
      "image/png": "[encoded data removed]",
      "text/plain": [
       "<Figure size 640x480 with 2 Axes>"
      ]
     },
     "metadata": {},
     "output_type": "display_data"
    }
   ],
   "source": [
    "#Sample '1' and '5'\n",
    "f, ax = plt.subplots(ncols = 2)\n",
    "ax[0].imshow(train.loc[0,'img'])\n",
    "ax[1].imshow(train.loc[1,'img'])\n",
    "ax[0].axis('off')\n",
    "ax[1].axis('off')\n",
    "plt.show()"
   ]
  },
  {
   "cell_type": "code",
   "execution_count": 5,
   "id": "d2a9178d-757e-47fb-a7bc-655ca4cffa8f",
   "metadata": {},
   "outputs": [
    {
     "data": {
      "text/html": [
       "<div>\n",
       "<style scoped>\n",
       "    .dataframe tbody tr th:only-of-type {\n",
       "        vertical-align: middle;\n",
       "    }\n",
       "\n",
       "    .dataframe tbody tr th {\n",
       "        vertical-align: top;\n",
       "    }\n",
       "\n",
       "    .dataframe thead th {\n",
       "        text-align: right;\n",
       "    }\n",
       "</style>\n",
       "<table border=\"1\" class=\"dataframe\">\n",
       "  <thead>\n",
       "    <tr style=\"text-align: right;\">\n",
       "      <th></th>\n",
       "      <th>index</th>\n",
       "      <th>label</th>\n",
       "      <th>img</th>\n",
       "      <th>mean_intensity</th>\n",
       "      <th>symmetry</th>\n",
       "    </tr>\n",
       "  </thead>\n",
       "  <tbody>\n",
       "    <tr>\n",
       "      <th>0</th>\n",
       "      <td>0</td>\n",
       "      <td>5</td>\n",
       "      <td>[[-1.0, -1.0, -1.0, -0.813, -0.671, -0.809, -0...</td>\n",
       "      <td>-0.111738</td>\n",
       "      <td>-0.687102</td>\n",
       "    </tr>\n",
       "    <tr>\n",
       "      <th>1</th>\n",
       "      <td>6</td>\n",
       "      <td>1</td>\n",
       "      <td>[[-1.0, -1.0, -1.0, -1.0, -1.0, -1.0, -1.0, 0....</td>\n",
       "      <td>-0.753914</td>\n",
       "      <td>-0.088484</td>\n",
       "    </tr>\n",
       "    <tr>\n",
       "      <th>2</th>\n",
       "      <td>8</td>\n",
       "      <td>1</td>\n",
       "      <td>[[-1.0, -1.0, -1.0, -1.0, -1.0, -1.0, -1.0, -0...</td>\n",
       "      <td>-0.772281</td>\n",
       "      <td>-0.116422</td>\n",
       "    </tr>\n",
       "    <tr>\n",
       "      <th>3</th>\n",
       "      <td>11</td>\n",
       "      <td>1</td>\n",
       "      <td>[[-1.0, -1.0, -1.0, -1.0, -1.0, -1.0, -0.998, ...</td>\n",
       "      <td>-0.769258</td>\n",
       "      <td>-0.048250</td>\n",
       "    </tr>\n",
       "    <tr>\n",
       "      <th>4</th>\n",
       "      <td>12</td>\n",
       "      <td>1</td>\n",
       "      <td>[[-1.0, -1.0, -1.0, -1.0, -1.0, -1.0, -1.0, 0....</td>\n",
       "      <td>-0.795438</td>\n",
       "      <td>-0.047352</td>\n",
       "    </tr>\n",
       "    <tr>\n",
       "      <th>...</th>\n",
       "      <td>...</td>\n",
       "      <td>...</td>\n",
       "      <td>...</td>\n",
       "      <td>...</td>\n",
       "      <td>...</td>\n",
       "    </tr>\n",
       "    <tr>\n",
       "      <th>1556</th>\n",
       "      <td>7268</td>\n",
       "      <td>5</td>\n",
       "      <td>[[-1.0, -1.0, -1.0, -1.0, -1.0, -1.0, -1.0, -1...</td>\n",
       "      <td>-0.289414</td>\n",
       "      <td>-0.585344</td>\n",
       "    </tr>\n",
       "    <tr>\n",
       "      <th>1557</th>\n",
       "      <td>7270</td>\n",
       "      <td>5</td>\n",
       "      <td>[[-1.0, -1.0, -1.0, -1.0, -1.0, -1.0, -1.0, -0...</td>\n",
       "      <td>-0.534238</td>\n",
       "      <td>-0.552977</td>\n",
       "    </tr>\n",
       "    <tr>\n",
       "      <th>1558</th>\n",
       "      <td>7283</td>\n",
       "      <td>1</td>\n",
       "      <td>[[-1.0, -1.0, -1.0, -1.0, -1.0, -1.0, -1.0, -0...</td>\n",
       "      <td>-0.609793</td>\n",
       "      <td>-0.152242</td>\n",
       "    </tr>\n",
       "    <tr>\n",
       "      <th>1559</th>\n",
       "      <td>7284</td>\n",
       "      <td>1</td>\n",
       "      <td>[[-1.0, -1.0, -1.0, -1.0, -1.0, -1.0, -0.744, ...</td>\n",
       "      <td>-0.662309</td>\n",
       "      <td>-0.072781</td>\n",
       "    </tr>\n",
       "    <tr>\n",
       "      <th>1560</th>\n",
       "      <td>7289</td>\n",
       "      <td>1</td>\n",
       "      <td>[[-1.0, -1.0, -1.0, -1.0, -1.0, -0.108, 1.0, 0...</td>\n",
       "      <td>-0.447559</td>\n",
       "      <td>-0.114531</td>\n",
       "    </tr>\n",
       "  </tbody>\n",
       "</table>\n",
       "<p>1561 rows × 5 columns</p>\n",
       "</div>"
      ],
      "text/plain": [
       "      index  label                                                img  \\\n",
       "0         0      5  [[-1.0, -1.0, -1.0, -0.813, -0.671, -0.809, -0...   \n",
       "1         6      1  [[-1.0, -1.0, -1.0, -1.0, -1.0, -1.0, -1.0, 0....   \n",
       "2         8      1  [[-1.0, -1.0, -1.0, -1.0, -1.0, -1.0, -1.0, -0...   \n",
       "3        11      1  [[-1.0, -1.0, -1.0, -1.0, -1.0, -1.0, -0.998, ...   \n",
       "4        12      1  [[-1.0, -1.0, -1.0, -1.0, -1.0, -1.0, -1.0, 0....   \n",
       "...     ...    ...                                                ...   \n",
       "1556   7268      5  [[-1.0, -1.0, -1.0, -1.0, -1.0, -1.0, -1.0, -1...   \n",
       "1557   7270      5  [[-1.0, -1.0, -1.0, -1.0, -1.0, -1.0, -1.0, -0...   \n",
       "1558   7283      1  [[-1.0, -1.0, -1.0, -1.0, -1.0, -1.0, -1.0, -0...   \n",
       "1559   7284      1  [[-1.0, -1.0, -1.0, -1.0, -1.0, -1.0, -0.744, ...   \n",
       "1560   7289      1  [[-1.0, -1.0, -1.0, -1.0, -1.0, -0.108, 1.0, 0...   \n",
       "\n",
       "      mean_intensity  symmetry  \n",
       "0          -0.111738 -0.687102  \n",
       "1          -0.753914 -0.088484  \n",
       "2          -0.772281 -0.116422  \n",
       "3          -0.769258 -0.048250  \n",
       "4          -0.795438 -0.047352  \n",
       "...              ...       ...  \n",
       "1556       -0.289414 -0.585344  \n",
       "1557       -0.534238 -0.552977  \n",
       "1558       -0.609793 -0.152242  \n",
       "1559       -0.662309 -0.072781  \n",
       "1560       -0.447559 -0.114531  \n",
       "\n",
       "[1561 rows x 5 columns]"
      ]
     },
     "execution_count": 5,
     "metadata": {},
     "output_type": "execute_result"
    }
   ],
   "source": [
    "#Define features of the image (Symmetry and Mean Intensity)\n",
    "train['mean_intensity'] = train['img'].apply(lambda x: np.mean(x))\n",
    "train['symmetry'] = train['img'].apply(lambda x: -np.mean([np.abs(x-np.flip(x,axis=1)), np.abs(x-np.flip(x,axis=0))]))\n",
    "train"
   ]
  },
  {
   "cell_type": "code",
   "execution_count": 6,
   "id": "ab62bddd-0b22-483d-b3a7-ccb4c49d6430",
   "metadata": {},
   "outputs": [
    {
     "data": {
      "image/png": "[encoded data removed]",
      "text/plain": [
       "<Figure size 640x480 with 1 Axes>"
      ]
     },
     "metadata": {},
     "output_type": "display_data"
    }
   ],
   "source": [
    "#Plot digit 5 and digit 1 labels\n",
    "f, ax = plt.subplots()\n",
    "sns.scatterplot(data = train[train['label'] == 1], x = 'mean_intensity', y = 'symmetry', marker='x', color='red', label='Digit 5')\n",
    "sns.scatterplot(data = train[train['label'] == 5], x = 'mean_intensity', y = 'symmetry', marker='o', color='blue', label='Digit 1')\n",
    "plt.show()"
   ]
  },
  {
   "cell_type": "code",
   "execution_count": 7,
   "id": "ff358ec7-093b-418a-b80a-2694bae89bcf",
   "metadata": {},
   "outputs": [],
   "source": [
    "x = train[['mean_intensity','symmetry']].to_numpy()\n",
    "y = train['label'].apply(lambda x: 1 if x==1 else -1).to_numpy()\n",
    "w = np.random.uniform(low=1, high=1, size=x.shape[1])\n",
    "#w = np.array([-0.3, 1.2])\n",
    "def gradient_e_in(w, x, y):\n",
    "    wTx = x @ w\n",
    "    sigmoid = np.exp(-y * wTx)/(1+np.exp(-y * wTx))\n",
    "    y = y[:, np.newaxis]\n",
    "    sigmoid = sigmoid[:, np.newaxis]\n",
    "    grad = -np.sum((y * x) * sigmoid, axis=0)/(x.shape[0])\n",
    "    return grad\n",
    "\n",
    "def e_in(w, x, y):\n",
    "    y = y[:, np.newaxis]\n",
    "    wTx = x @ w\n",
    "    ein = np.sum(np.log(1 + np.exp(-y * wTx)))/(x.shape[0])\n",
    "    return ein\n",
    "\n",
    "def logistic_regression(w, x, y, eta, iterations):\n",
    "    min_loss_weights = np.zeros(x.shape[1])\n",
    "    ein = float('inf')\n",
    "    for _ in range(iterations):\n",
    "        grad = gradient_e_in(w,x,y)\n",
    "        loss = e_in(w,x,y)\n",
    "        if(ein > loss):\n",
    "            ein = loss\n",
    "            min_loss_weights = w.copy()\n",
    "        w += eta*-grad\n",
    "    return min_loss_weights\n",
    "\n",
    "w_optimal = logistic_regression(w,x,y,0.1,500)"
   ]
  },
  {
   "cell_type": "code",
   "execution_count": 8,
   "id": "f616dbae-046a-409a-a23a-f0a910dbbf2f",
   "metadata": {},
   "outputs": [
    {
     "data": {
      "text/plain": [
       "array([-1.03812075,  1.51090273])"
      ]
     },
     "execution_count": 8,
     "metadata": {},
     "output_type": "execute_result"
    }
   ],
   "source": [
    "w_optimal"
   ]
  },
  {
   "cell_type": "code",
   "execution_count": 9,
   "id": "24b0f205-2ae7-4de8-9355-80b18f2fe771",
   "metadata": {},
   "outputs": [
    {
     "data": {
      "text/plain": [
       "np.float64(1098.3545575841324)"
      ]
     },
     "execution_count": 9,
     "metadata": {},
     "output_type": "execute_result"
    }
   ],
   "source": [
    "e_in(w_optimal, x, y)"
   ]
  },
  {
   "cell_type": "code",
   "execution_count": 10,
   "id": "861286b2-4e66-476e-a91d-7f59430b8cdc",
   "metadata": {},
   "outputs": [
    {
     "name": "stdout",
     "output_type": "stream",
     "text": [
      "[0.1022395  0.85260966 0.84617628 ... 0.75556162 0.82632749 0.69385041]\n"
     ]
    },
    {
     "data": {
      "text/plain": [
       "np.float64(0.9628443305573351)"
      ]
     },
     "execution_count": 10,
     "metadata": {},
     "output_type": "execute_result"
    }
   ],
   "source": [
    "#Calculate in sample accuracy\n",
    "sigmoid = lambda w,x: np.exp(x @ w)/(1+np.exp(x @ w))\n",
    "in_sample_predictions = sigmoid(w, x)\n",
    "print(in_sample_predictions)\n",
    "in_sample_predictions = np.where(in_sample_predictions >= 0.5, 1, -1)\n",
    "\n",
    "y_true = train['label'].apply(lambda x: 1 if x==1 else -1).to_numpy()\n",
    "in_sample_accuracy = np.mean(in_sample_predictions == y_true)\n",
    "in_sample_accuracy"
   ]
  },
  {
   "cell_type": "code",
   "execution_count": 12,
   "id": "6f0842e7-b7dd-48b9-995c-53c6f095bcba",
   "metadata": {},
   "outputs": [
    {
     "name": "stdout",
     "output_type": "stream",
     "text": [
      "[0.38321194 0.44741594 0.42633921 ... 0.35059467 0.40123644 0.62203597]\n"
     ]
    },
    {
     "data": {
      "text/plain": [
       "np.float64(0.8220338983050848)"
      ]
     },
     "execution_count": 12,
     "metadata": {},
     "output_type": "execute_result"
    }
   ],
   "source": [
    "# Set up test\n",
    "test['mean_intensity'] = test['img'].apply(lambda x: np.mean(x))\n",
    "test['symmetry'] = test['img'].apply(lambda x: -np.mean([np.abs(x-np.flip(x,axis=1)), np.abs(x-np.flip(x,axis=0))]))\n",
    "\n",
    "x_test = test[['mean_intensity', 'symmetry']].to_numpy()\n",
    "out_sample_predictions = sigmoid(w_optimal, x_test)\n",
    "print(out_sample_predictions)\n",
    "out_sample_predictions = np.where(out_sample_predictions >= 0.5, 1, -1)\n",
    "\n",
    "y_true = test['label'].apply(lambda x: 1 if x==1 else -1).to_numpy()\n",
    "out_sample_predictions = np.mean(out_sample_predictions == y_true)\n",
    "out_sample_predictions"
   ]
  }
 ],
 "metadata": {
  "kernelspec": {
   "display_name": "Python 3 (ipykernel)",
   "language": "python",
   "name": "python3"
  },
  "language_info": {
   "codemirror_mode": {
    "name": "ipython",
    "version": 3
   },
   "file_extension": ".py",
   "mimetype": "text/x-python",
   "name": "python",
   "nbconvert_exporter": "python",
   "pygments_lexer": "ipython3",
   "version": "3.13.2"
  }
 },
 "nbformat": 4,
 "nbformat_minor": 5
}
